{
 "cells": [
  {
   "cell_type": "code",
   "execution_count": 1,
   "id": "c166daa6",
   "metadata": {},
   "outputs": [],
   "source": [
    "import numpy as np\n",
    "import matplotlib.pyplot as plt\n",
    "import math"
   ]
  },
  {
   "cell_type": "markdown",
   "id": "231c85d7",
   "metadata": {},
   "source": [
    "# Tarea ejercicios libro\n",
    "\n",
    "Esta tarea consiste en realizar los ejercicios 1.2, 1.3, 1.10, 1.11, 1.12 del libro Learning from data: a short course."
   ]
  },
  {
   "cell_type": "markdown",
   "id": "f0ad9e0b",
   "metadata": {},
   "source": [
    "## Ejercicio 1.2\n",
    "\n",
    "Suponga que usamos un perceptron para detectar mensajes de spam. Podemos decir que cada correo es está representado por la frecuencia de ocurrencia de palabras clave, y la salida de el mensaje es +1 si el mensaje es considerado spam.\n",
    "\n",
    "- (a) Puedes pensar algunas palabras que tendrán con un peso grande en el perceptron?\n",
    "\n",
    "**Solución:** En este caso algunas de las palabras que pueden dar un peso positivo en el perceptrón (que aparezcan en mensajes spam) son: Gratis!, Obten, Gana, Barato.\n",
    "\n",
    "- (b) ¿Que palabras tendrán un peso negativo?\n",
    "\n",
    "**Solución:** En este caso algunas de las palabras que dan un peso negativo en el perceptrón (no aparecen en mensajes spam) son: Cordial saludo, Tarea, Prácticas.\n",
    "\n",
    "- (c) ¿Que parámetro en el perceptron afectará directamente afecta cuantos mensajes frontera terminaran siendo clasificados como spam? \n",
    "\n",
    "**Solución:** El parámetro dado por $b$ en el perceptron afecta directamente a la cantidad de mensajes límite que terminan clasificándose como spam. Esto es porque $b$ es el umbral utilizado para clasificar los correos electrónicos en categorías de spam y no spam."
   ]
  },
  {
   "cell_type": "markdown",
   "id": "19f5cb0b",
   "metadata": {},
   "source": [
    "## Ejercicio 1.3\n",
    "\n",
    "La regla de actualización de peso en (1.3) tiene una buena interpretación de lo que se mueve correctamente en dirección de clasificar $x(t)$ :\n",
    "\n",
    "<img src=\"Ej13.png\"\n",
    "     alt=\"Ej\"\n",
    "     style=\"float: left; margin-right: 100%; width:250px; text-align:center; margin-left: 30%\"/>\n",
    "     \n",
    "<br></br>    \n",
    "<br></br>\n",
    "\n",
    "- (a) Muestre que $y(t)w^T(t)x(t) < 0$ [Hint: $x(t)$ es mal clasificado por $w(t)$].\n",
    "\n",
    "**Solución:** Si $x(t)$ es mal clasificado por $w(t)$, entonces $w^T(t)x(t)$ tiene diferentes signos a $y(t)$ por lo tanto, $y(t)w^T(t)x(t) < 0$.\n",
    "\n",
    "- (b) Muestre que $y(t)w^T(t+1)x(t) > y(t)w^T(t)x(t)$ [Hint: Usar (1.3)].\n",
    "\n",
    "**Solución:** Tenemos que\n",
    "\n",
    "$$\\begin{align}\n",
    "    y(t)w^T(t+1)x(t) &= y(t)(w(t) + y(t)x(t))^T x(t)\\\\\n",
    "    &= y(t) (w^T(t) + y(t)x^T(t))x(t)\\\\\n",
    "    &= y(t)w^T(t)x(t) + y(t)y^T(t)x^T(t)x(t)\\\\\n",
    "    &> y(t)w^T(t)x(t) \\quad \\text{Por lo que $y(t)y^T(t)x^T(t)x(t) > 0$}\n",
    "\\end{align}$$\n",
    "\n",
    "- (c) En lo que respecta a la clasificación de $x(t)$, argumente que el movimiento desde $w(t)$ a $w(t+1 )$ es un movimiento 'en la dirección correcta'.\n",
    "\n",
    "**Solución:** Es claro que del subproblema anterior (b) tenemos que $y(t)w^T(t)x(t)$ incrementa con cada aumento en $t$. Si $y(t)$ es positivo, pero $w^T(t)x(t)$ es negativo, entonces movemos $w^T(x)x(t)$ hacia el componente positivo incrementándolo. Sin embargo, si $y(t)$ es negativo, pero $w^T(t)x(t)$, entonces $y(t)w^T(t)x(t)$ esta incrementando, lo que significa que $w^T(t)x(t)$, esta decrementando.\n",
    "\n",
    "Entonces el \"movimiento\" entre $w(t)$ a $w(t+1)$ es un movimiento en la dirección correcta en cuanto a clasificar $x(t)$. "
   ]
  },
  {
   "cell_type": "markdown",
   "id": "0584b847",
   "metadata": {},
   "source": [
    "## Ejercicio 1.10\n",
    "\n",
    "Este es un experimento que ilustra la diferencia entre un solo contenedor y múltiples contenedores. Realiza una simulación por computadora lanzando 1,000 monedas. Lanza cada moneda de forma independiente 10 veces. Enfoquémonos en 3 monedas de la siguiente manera: $c_{1}$ es la primera moneda lanzada; $c_{\\text {rand }}$ es una moneda que eliges al azar; $c_{\\min }$ es la moneda que tuvo la frecuencia mínima de caras (elige la más temprana en caso de empate). Sean $\\nu_{1}, \\nu_{\\text {rand }}$ y $\\nu_{\\min }$ las fracciones de caras obtenidas para las respectivas tres monedas.\n",
    "\n",
    "(a) ¿Cuál es el valor esperado $\\mu$ para las tres monedas seleccionadas?\n",
    "\n",
    "**Solución:** En este caso como las monedas no son trucadas, entonces $\\mu = 0.5$ para las 3 monedas ya que su distribución de probabilidad es uniforme."
   ]
  },
  {
   "cell_type": "markdown",
   "id": "45c6bc60",
   "metadata": {},
   "source": [
    "(b) Repite este experimento completo un gran número de veces (por ejemplo, 100,000 ejecuciones del experimento completo) para obtener varias instancias de $\\nu_{1}, \\nu_{\\text {rand }}$ y $\\nu_{\\min }$, y traza los histogramas de las distribuciones de $\\nu_{1}, \\nu_{\\text {rand }}$ y $\\nu_{\\min }$. Observa que las monedas que resulten ser $c_{\\text {rand }}$ y $c_{\\min }$ pueden variar de una ejecución a otra.\n",
    "\n",
    "**Solución:**"
   ]
  },
  {
   "cell_type": "code",
   "execution_count": 2,
   "id": "1a71a6d2",
   "metadata": {},
   "outputs": [],
   "source": [
    "def exp(x,flips,n):\n",
    "  #Ejecuta el experimento de las monedas una vez\n",
    "  exp=np.zeros((flips,n))\n",
    "  \n",
    "  for i in range(flips):\n",
    "    #Lanzamiento de las monedas\n",
    "    exp[i]=np.random.randint(low=0,high=2,size=n)\n",
    "\n",
    "  all=np.mean(exp,axis=0) #Fracción de caras\n",
    "\n",
    "  v1=all[1]\n",
    "  vrand=np.random.choice(all)\n",
    "  vmin=np.min(all)\n",
    "\n",
    "  return v1,vrand,vmin\n",
    "\n",
    "n=1000\n",
    "flips=10\n",
    "N=100000\n",
    "\n",
    "#Se ejecuta el experimento muchas veces\n",
    "data1=np.vectorize(exp)(np.zeros(N),flips,n)"
   ]
  },
  {
   "cell_type": "code",
   "execution_count": 3,
   "id": "da2f14fe",
   "metadata": {},
   "outputs": [
    {
     "data": {
      "image/png": "[encoded data removed]",
      "text/plain": [
       "<Figure size 432x288 with 3 Axes>"
      ]
     },
     "metadata": {
      "needs_background": "light"
     },
     "output_type": "display_data"
    }
   ],
   "source": [
    "#plt.rcParams.update({\"text.usetex\": True}) #\n",
    "\n",
    "fig, axs = plt.subplots(1,3,sharey=True, tight_layout=True)\n",
    "n_bins = 20\n",
    "# Crear el histograma para data1\n",
    "axs[0].hist(data1[0],bins=n_bins, color='aquamarine')\n",
    "axs[1].hist(data1[1],bins=n_bins, color='moccasin')\n",
    "axs[2].hist(data1[2],bins=n_bins, color='plum')\n",
    "\n",
    "# Agregar leyenda\n",
    "\n",
    "#axs[0].legend(loc='upper left')\n",
    "\n",
    "# Mostrar el gráfico\n",
    "plt.show()"
   ]
  },
  {
   "cell_type": "markdown",
   "id": "fb9a0855",
   "metadata": {},
   "source": [
    "(c) Utilizando $b)$, traza las estimaciones para $\\mathbb{P}[|\\nu-\\mu|>\\epsilon]$ en función de $\\epsilon$, junto con la cota de Hoeffding $2 e^{-2 \\epsilon^{2} N}$ (en el mismo gráfico).\n",
    "\n",
    "**Solución:**"
   ]
  },
  {
   "cell_type": "code",
   "execution_count": 4,
   "id": "6089d236",
   "metadata": {},
   "outputs": [],
   "source": [
    "mu=0.5\n",
    "dif= lambda x: np.abs(x-mu)\n",
    "difs =np.vectorize(dif)(data1) #Calculo de la distancia entre nu y mu\n",
    "\n",
    "eps=np.arange(0,0.5,0.001)\n",
    "hoeff= 2.0*np.exp(-2.0*flips*(eps**2)) #Calculo de la cota\n",
    "\n",
    "prob= lambda x,indx: np.sum(difs[indx]>x)/N\n",
    "\n",
    "#Probabilidades de cada moneda\n",
    "p1=np.vectorize(prob)(eps,0)\n",
    "prand=np.vectorize(prob)(eps,1)\n",
    "pmin=np.vectorize(prob)(eps,2)"
   ]
  },
  {
   "cell_type": "code",
   "execution_count": 5,
   "id": "2977f7ae",
   "metadata": {},
   "outputs": [
    {
     "data": {
      "image/png": "[encoded data removed]",
      "text/plain": [
       "<Figure size 432x288 with 1 Axes>"
      ]
     },
     "metadata": {
      "needs_background": "light"
     },
     "output_type": "display_data"
    }
   ],
   "source": [
    "fig, ax = plt.subplots()\n",
    " \n",
    "#Gráfico de las probabilidades\n",
    "plt.plot(eps, hoeff, color='orange', label='Cota de Hoeffding')\n",
    "plt.plot(eps, p1, color='r', linewidth=1, label='Moneda 1')\n",
    "plt.plot(eps, prand, color='g', linewidth=1, linestyle='dashed', label='Moneda aleatoria')\n",
    "plt.plot(eps, pmin, color='b', linewidth=1, linestyle='dashed', label='Moneda mínima')\n",
    "plt.xlabel(r'$\\epsilon$')\n",
    "plt.ylabel('Probabilidad ')\n",
    "plt.legend()\n",
    "plt.show()"
   ]
  },
  {
   "cell_type": "markdown",
   "id": "49752ef1",
   "metadata": {},
   "source": [
    "(d) ¿Que monedas cumplen con la cota de Hoeffding y cuáles no? Explica por qué.\n",
    "\n",
    "**Solución:** La primera moneda y las monedas aleatorias cumplen la cota de Hoeffding. La moneda con frecuencia mínima de caras no cumple la cota de Hoeffding. Esto es porque las 2 primeras monedas fueron escogidas antes del experimento, mientras que la última fue escogida luego del experimento, esto viola la condición de la desigualdad de Hoeffding la cual dice que la hipótesis h fue arreglada antes de que las muestras fueron escogidas."
   ]
  },
  {
   "cell_type": "markdown",
   "id": "fc45f732",
   "metadata": {},
   "source": [
    "(e) Relaciona la parte (d) con los múltiples recipientes en la Figura 1.10.\n",
    "\n",
    "<img src=\"fig110.png\"\n",
    "     alt=\"Ej\"\n",
    "     style=\"float: left; margin-right: 100%; width:500px; text-align:center; margin-left: 20%\"/>\n",
    "  \n",
    "<br> \n",
    "\n",
    "**Solución:** La figura 1.10 muestra como elegir un contenedor para cada hipótesis, en el experimento de las monedas podemos elegir que moneda escoger antes de hacer el experimento, de esta manera nos aseguramos de que el experimento si pueda ser tratado como una variable aleatoria."
   ]
  },
  {
   "cell_type": "markdown",
   "id": "8f2de8fd",
   "metadata": {},
   "source": [
    "## Ejercicio 1.11\n",
    "\n",
    "Se nos proporciona un conjunto de datos $\\mathcal{D}$ con 25 ejemplos de entrenamiento de una función objetivo desconocida $f: \\mathcal{X} \\rightarrow \\mathcal{Y}$, donde $\\mathcal{X}=\\mathbb{R}$ y $\\mathcal{Y}=\\{-1,+1\\}$. Para aprender $f$, utilizamos un conjunto de hipótesis simple $\\mathcal{H}=\\left\\{h_{1}, h_{2}\\right\\}$ donde $h_{1}$ es la función constante +1 y $h_{2}$ es la función constante -1.\n",
    "\n",
    "Consideramos dos algoritmos de aprendizaje, S (inteligente) y C (loco). S elige la hipótesis que concuerda más con $\\mathcal{D}$ y C elige deliberadamente la otra hipótesis. Veamos cómo se desempeñan estos algoritmos fuera de la muestra desde los puntos de vista determinista y probabilístico. Supongamos, en el punto de vista probabilístico, que hay una distribución de probabilidad en $\\mathcal{X}$, y sea $\\mathbb{P}[f(\\mathbf{x})=+1]=p$.\n"
   ]
  },
  {
   "cell_type": "markdown",
   "id": "0448edd9",
   "metadata": {},
   "source": [
    "(a) ¿Puede S producir una hipótesis que garantice un mejor rendimiento que el azar en cualquier punto fuera de $\\mathcal{D}$?\n",
    "\n",
    "**Solución:** $S$ no puede producir una hipótesis que es garantizada de funcionar mejor que un punto cualquiera fuera de D.\n",
    "\n",
    "Si $f$ tiene $25 + 1$ en $D$ $-1$ en todos los otros puntos de $X$, S va a escoger la hipótesis $h_1$, la cual no coincidirá con $f$ fuera de $D$. Por otro lado una función aleatoria va a tener $+1$ y $-1$ (la cual será 50/50), y va a coincidir con $f$ la mitad del tiempo lo cual será mejor que la función producida por $S$."
   ]
  },
  {
   "cell_type": "markdown",
   "id": "b3194c7f",
   "metadata": {},
   "source": [
    "(b)  Supongamos, para el resto del ejercicio, que todos los ejemplos en $\\mathcal{D}$ tienen $y_{n}=+1$. ¿Es posible que la hipótesis que produce C resulte ser mejor que la hipótesis que produce S?\n",
    "\n",
    "**Solución:** Es posible que $C$ produce una mejor hipótesis que $S$ produce, podemos tomar otra vez la función del ejemplo anterior."
   ]
  },
  {
   "cell_type": "markdown",
   "id": "32bf74f9",
   "metadata": {},
   "source": [
    "(c) Si $p=0.9$, ¿cuál es la probabilidad de que S produzca una hipótesis mejor que C?\n",
    "\n",
    "**Solución:** Si en cada punto en $D$ tiene $1$, entonces $S$ va a escoger $h_1$ y $C$ va a escoger $h_2$. Entonces afuera de $D$, $h_1$ tendrá un $90%$ de coincidir con $f$, mientras $h_2$ solo tendrá un $10%$. $S$ siempre producirá una mejor hipótesis que $C$."
   ]
  },
  {
   "cell_type": "markdown",
   "id": "c7354328",
   "metadata": {},
   "source": [
    "(d) ¿Existe algún valor de $p$ para el cual sea más probable que no que C produzca una hipótesis mejor que S?\n",
    "\n",
    "**Solución:** Del problema anterior, tenemos que cuando $p < 0.5$, $C$ va a producir una mejor hipótesis que $S$. Cuando $C$ siempre produce $h_2$, la cual va a coindidir con $f$ mejor que $h_1$ si $p < 0.5$."
   ]
  },
  {
   "cell_type": "markdown",
   "id": "ebd8f01e",
   "metadata": {},
   "source": [
    "## Ejercicio 1.12\n",
    "\n",
    "Una amiga se acerca a ti con un problema de aprendizaje. Dice que la función objetivo $f$ es completamente desconocida, pero tiene 4,000 puntos de datos. Está dispuesta a pagarte para resolver su problema y producirle un $g$ que aproxime a $f$. ¿Qué es lo mejor que puedes prometerle de las siguientes opciones?\n",
    "<ul>\n",
    "    <li> (a) Después de aprender, le proporcionarás un $g$ que garantizará una buena aproximación de $f$ fuera de la muestra. </li>\n",
    "    <li> (b) Después de aprender, le proporcionarás un $g$, y con alta probabilidad el $g$ que produzcas aproximará bien a $f$ fuera de la muestra.</li>\n",
    "    <li> (c) Ocurrirá una de las dos cosas. </li>\n",
    "        <ul>\n",
    "            <li> (i) Producirás una hipótesis $g$; </li>\n",
    "            <li> (ii) Declararás que fracasaste. </li>   \n",
    "        </ul> \n",
    "        Si devuelves una hipótesis $g$, entonces con alta probabilidad el $g$ que produzcas aproximará bien a $f$ fuera de la muestra.\n",
    "</ul>\n",
    "\n",
    "\n",
    "**Solución:**\n",
    "\n",
    "La mejor respuesta que podemos prometer es la opción (c), ya que no tenemos mucha información acerca de la función objetivo $f$ la cual puede tener una complejidad muy alta y es posible que no podamos aprender. En caso de que si se pueda la probabilidad de que $g$ coincida con $f$ es alta respecto a la desigualdad de Hoeffding, y el error en $g$ puede ser pequeño ya que tenemos un dataset relativamente grande. "
   ]
  },
  {
   "cell_type": "markdown",
   "id": "a29e4e61",
   "metadata": {},
   "source": [
    "---\n",
    "\n",
    "**Navegacion entre los Notebooks:**\n",
    "\n",
    "Regresar a [Introducción de los ejercicios del libro](Introducción_Tarea_Libro.ipynb)<br>\n",
    "\n",
    "---\n",
    "\n",
    "**Autores:** Alejandro Martin Salcedo.\n"
   ]
  },
  {
   "cell_type": "code",
   "execution_count": null,
   "id": "ca5973fc",
   "metadata": {},
   "outputs": [],
   "source": []
  }
 ],
 "metadata": {
  "@webio": {
   "lastCommId": null,
   "lastKernelId": null
  },
  "kernelspec": {
   "display_name": "Python 3 (ipykernel)",
   "language": "python",
   "name": "python3"
  },
  "language_info": {
   "codemirror_mode": {
    "name": "ipython",
    "version": 3
   },
   "file_extension": ".py",
   "mimetype": "text/x-python",
   "name": "python",
   "nbconvert_exporter": "python",
   "pygments_lexer": "ipython3",
   "version": "3.9.7"
  }
 },
 "nbformat": 4,
 "nbformat_minor": 5
}
