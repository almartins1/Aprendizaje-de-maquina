{
 "cells": [
  {
   "cell_type": "markdown",
   "id": "9c72d04f",
   "metadata": {},
   "source": [
    "# TAREA Ejercicios libro\n",
    "\n",
    "Los jupyter notebooks presentados en esta carpeta son para el desarrollo de la tarea propuesta en la materia de Matemáticas del Aprendizaje de Máquina. Esta tarea fue realizada individualmente y consiste en realizar los ejercicios 1.2, 1.3, 1.10, 1.11 y 1.12 del libro Learning from Data: A short course.\n",
    "\n",
    "Los ejercicios propuestos fueron agrupados en un solo notebook: [Ejercicios libro](Tarea_ejercicios_libro.ipynb)<br>\n",
    "\n",
    "Nota: Hay imágenes adjuntas a la tarea.\n",
    "\n",
    "\n",
    "---\n",
    "\n",
    "**Autores:** Alejandro Martin Salcedo."
   ]
  },
  {
   "cell_type": "code",
   "execution_count": null,
   "id": "3f5d67c0",
   "metadata": {},
   "outputs": [],
   "source": []
  }
 ],
 "metadata": {
  "kernelspec": {
   "display_name": "Python 3 (ipykernel)",
   "language": "python",
   "name": "python3"
  },
  "language_info": {
   "codemirror_mode": {
    "name": "ipython",
    "version": 3
   },
   "file_extension": ".py",
   "mimetype": "text/x-python",
   "name": "python",
   "nbconvert_exporter": "python",
   "pygments_lexer": "ipython3",
   "version": "3.9.7"
  }
 },
 "nbformat": 4,
 "nbformat_minor": 5
}
