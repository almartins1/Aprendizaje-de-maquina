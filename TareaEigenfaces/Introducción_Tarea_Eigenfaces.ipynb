{
 "cells": [
  {
   "cell_type": "markdown",
   "id": "d271a750",
   "metadata": {},
   "source": [
    "# TAREA Eigenfaces\n",
    "\n",
    "Los jupyter notebooks presentados en esta carpeta son para el desarrollo de la tarea propuesta en la materia de Matemáticas del Aprendizaje de Máquina. Esta tarea fue realizada individualmente y consiste en construir un algoritmo que aprenda una representación basada en eigenfaces.\n",
    "\n",
    "El desarrollo del ejercicio fue realizado en un solo notebook: [Tarea_eigenfaces](Tarea_eigenfaces.ipynb)<br>\n",
    "\n",
    "\n",
    "---\n",
    "\n",
    "**Autores:** Alejandro Martin Salcedo."
   ]
  },
  {
   "cell_type": "code",
   "execution_count": null,
   "id": "b0a05129",
   "metadata": {},
   "outputs": [],
   "source": []
  }
 ],
 "metadata": {
  "kernelspec": {
   "display_name": "Python 3 (ipykernel)",
   "language": "python",
   "name": "python3"
  },
  "language_info": {
   "codemirror_mode": {
    "name": "ipython",
    "version": 3
   },
   "file_extension": ".py",
   "mimetype": "text/x-python",
   "name": "python",
   "nbconvert_exporter": "python",
   "pygments_lexer": "ipython3",
   "version": "3.9.7"
  }
 },
 "nbformat": 4,
 "nbformat_minor": 5
}
