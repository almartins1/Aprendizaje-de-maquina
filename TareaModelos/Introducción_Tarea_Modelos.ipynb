{
 "cells": [
  {
   "cell_type": "markdown",
   "id": "3c44922d",
   "metadata": {},
   "source": [
    "# TAREA Modelos\n",
    "\n",
    "Los jupyter notebooks presentados en esta carpeta son para el desarrollo de la tarea propuesta en la materia de Matemáticas del Aprendizaje de Máquina. Esta tarea fue realizada individualmente y consiste en que partiendo de los problemas del taller modelos de SVM (Tarea 1), implemente un modelo de aprendizaje de maquina que considere los espacios de hipótesis revisados en clase.\n",
    "\n",
    "El desarrolo de esto fue agrupado en un solo notebook: [Tarea_Modelos](Tarea_modelos.ipynb)<br>\n",
    "\n",
    "Nota: los datasets usados se importan en el código.\n",
    "\n",
    "\n",
    "---\n",
    "\n",
    "**Autores:** Alejandro Martin Salcedo."
   ]
  },
  {
   "cell_type": "code",
   "execution_count": null,
   "id": "c3cbf126",
   "metadata": {},
   "outputs": [],
   "source": []
  }
 ],
 "metadata": {
  "kernelspec": {
   "display_name": "Python 3 (ipykernel)",
   "language": "python",
   "name": "python3"
  },
  "language_info": {
   "codemirror_mode": {
    "name": "ipython",
    "version": 3
   },
   "file_extension": ".py",
   "mimetype": "text/x-python",
   "name": "python",
   "nbconvert_exporter": "python",
   "pygments_lexer": "ipython3",
   "version": "3.9.7"
  }
 },
 "nbformat": 4,
 "nbformat_minor": 5
}
