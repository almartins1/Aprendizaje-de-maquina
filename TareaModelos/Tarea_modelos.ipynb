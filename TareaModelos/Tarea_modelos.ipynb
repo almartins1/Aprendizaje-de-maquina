{
 "cells": [
  {
   "cell_type": "markdown",
   "id": "efa29cdd",
   "metadata": {},
   "source": [
    "# Taller modelos de aprendizaje\n",
    "\n",
    "Esta tarea consiste en que partiendo de los problemas del taller modelos de SVM, se debe implementar un modelo de aprendizaje de maquina que considere los espacios de hipótesis revisados en clase. El modelo debe garantizar:\n",
    "\n",
    "1. Generalización por medio de una estrategia de adecuada de validación cruzada.\n",
    "2. Ajuste de hiperparametros (con una selección adecuada de hiperparametros para cada modelo)\n",
    "\n",
    "\n",
    "Para esto primero carguemos ambos datasets:"
   ]
  },
  {
   "cell_type": "code",
   "execution_count": 1,
   "id": "354befc3",
   "metadata": {},
   "outputs": [],
   "source": [
    "import pandas as pd\n",
    "import matplotlib.pyplot as plt\n",
    "from sklearn.linear_model import Perceptron\n",
    "from sklearn.model_selection import train_test_split\n",
    "from sklearn.neighbors import KNeighborsClassifier\n",
    "from sklearn.linear_model import LogisticRegression\n",
    "from sklearn.model_selection import cross_val_score\n",
    "from sklearn import svm"
   ]
  },
  {
   "cell_type": "markdown",
   "id": "c2ab9e7d",
   "metadata": {},
   "source": [
    "### Dataset 1: Banknote authentication"
   ]
  },
  {
   "cell_type": "code",
   "execution_count": 2,
   "id": "8b4060ab",
   "metadata": {},
   "outputs": [
    {
     "data": {
      "text/html": [
       "<div>\n",
       "<style scoped>\n",
       "    .dataframe tbody tr th:only-of-type {\n",
       "        vertical-align: middle;\n",
       "    }\n",
       "\n",
       "    .dataframe tbody tr th {\n",
       "        vertical-align: top;\n",
       "    }\n",
       "\n",
       "    .dataframe thead th {\n",
       "        text-align: right;\n",
       "    }\n",
       "</style>\n",
       "<table border=\"1\" class=\"dataframe\">\n",
       "  <thead>\n",
       "    <tr style=\"text-align: right;\">\n",
       "      <th></th>\n",
       "      <th>variance</th>\n",
       "      <th>skewness</th>\n",
       "      <th>curtosis</th>\n",
       "      <th>entropy</th>\n",
       "    </tr>\n",
       "  </thead>\n",
       "  <tbody>\n",
       "    <tr>\n",
       "      <th>0</th>\n",
       "      <td>3.62160</td>\n",
       "      <td>8.6661</td>\n",
       "      <td>-2.8073</td>\n",
       "      <td>-0.44699</td>\n",
       "    </tr>\n",
       "    <tr>\n",
       "      <th>1</th>\n",
       "      <td>4.54590</td>\n",
       "      <td>8.1674</td>\n",
       "      <td>-2.4586</td>\n",
       "      <td>-1.46210</td>\n",
       "    </tr>\n",
       "    <tr>\n",
       "      <th>2</th>\n",
       "      <td>3.86600</td>\n",
       "      <td>-2.6383</td>\n",
       "      <td>1.9242</td>\n",
       "      <td>0.10645</td>\n",
       "    </tr>\n",
       "    <tr>\n",
       "      <th>3</th>\n",
       "      <td>3.45660</td>\n",
       "      <td>9.5228</td>\n",
       "      <td>-4.0112</td>\n",
       "      <td>-3.59440</td>\n",
       "    </tr>\n",
       "    <tr>\n",
       "      <th>4</th>\n",
       "      <td>0.32924</td>\n",
       "      <td>-4.4552</td>\n",
       "      <td>4.5718</td>\n",
       "      <td>-0.98880</td>\n",
       "    </tr>\n",
       "  </tbody>\n",
       "</table>\n",
       "</div>"
      ],
      "text/plain": [
       "   variance  skewness  curtosis  entropy\n",
       "0   3.62160    8.6661   -2.8073 -0.44699\n",
       "1   4.54590    8.1674   -2.4586 -1.46210\n",
       "2   3.86600   -2.6383    1.9242  0.10645\n",
       "3   3.45660    9.5228   -4.0112 -3.59440\n",
       "4   0.32924   -4.4552    4.5718 -0.98880"
      ]
     },
     "execution_count": 2,
     "metadata": {},
     "output_type": "execute_result"
    }
   ],
   "source": [
    "# Cargamos y organizamos el dataset 1\n",
    "data_bank = pd.read_csv('https://archive.ics.uci.edu/ml/machine-learning-databases/00267/data_banknote_authentication.txt', header=None)\n",
    "data_bank.columns = [\"variance\", \"skewness\", \"curtosis\", \"entropy\", \"class\"]\n",
    "\n",
    "# Remplazamos los 0 por -1 para la SVM\n",
    "data_bank[\"class\"] = data_bank[\"class\"].replace([0],-1)\n",
    "\n",
    "# Separamos los atributos de las etiquetas\n",
    "# Atributos \n",
    "X_data_bank = data_bank[[\"variance\", \"skewness\", \"curtosis\", \"entropy\"]]\n",
    "#Etiquetas\n",
    "y_data_bank = data_bank[\"class\"]\n",
    "\n",
    "\n",
    "X_data_bank.head()"
   ]
  },
  {
   "cell_type": "code",
   "execution_count": 3,
   "id": "b1580cee",
   "metadata": {},
   "outputs": [
    {
     "data": {
      "text/plain": [
       "0   -1\n",
       "1   -1\n",
       "2   -1\n",
       "3   -1\n",
       "4   -1\n",
       "Name: class, dtype: int64"
      ]
     },
     "execution_count": 3,
     "metadata": {},
     "output_type": "execute_result"
    }
   ],
   "source": [
    "y_data_bank.head()"
   ]
  },
  {
   "cell_type": "markdown",
   "id": "2e45d58f",
   "metadata": {},
   "source": [
    "### Dataset 2: Occupancy detection"
   ]
  },
  {
   "cell_type": "code",
   "execution_count": 4,
   "id": "aa10eada",
   "metadata": {},
   "outputs": [],
   "source": [
    "#En este caso como el archivo es un Zip hay que hacer un par adicional de pasos\n",
    "import urllib\n",
    "import zipfile\n",
    "\n",
    "# Descargamos y descomprimos los datos\n",
    "url = \"https://archive.ics.uci.edu/ml/machine-learning-databases/00357/occupancy_data.zip\"\n",
    "extract_dir = \"occupancy\"\n",
    "\n",
    "zip_path, _ = urllib.request.urlretrieve(url)\n",
    "with zipfile.ZipFile(zip_path, \"r\") as f:\n",
    "    f.extractall(extract_dir)"
   ]
  },
  {
   "cell_type": "code",
   "execution_count": 5,
   "id": "6b6608f6",
   "metadata": {},
   "outputs": [],
   "source": [
    "\n",
    "# Como los datos están separados de una vez para\n",
    "# entrenar y hacer testing del modelo, es necesario \n",
    "# crear varios dataframes\n",
    "\n",
    "def occupancy_df_process(path):\n",
    "  data = pd.read_csv(path, sep=\",\", \n",
    "            names=[\"col\",\"date\",\"Temperature\",\"Humidity\",\n",
    "                   \"Light\",\"CO2\",\"HumidityRatio\",\"Occupancy\"])[1:]\n",
    "\n",
    "  data = data.drop([\"col\"],axis=1)\n",
    "  #ya no usamos date, pero pues el código está lindo \n",
    "  data['date'] = data['date'].apply(lambda x: pd.to_datetime(x).to_julian_date())\n",
    "  data[\"Light\"] = data[\"Light\"].astype(float)\n",
    "  data[\"Temperature\"] = data[\"Temperature\"].astype(float)\n",
    "  data[\"Humidity\"] = data[\"Humidity\"].astype(float)\n",
    "  data[\"CO2\"] = data[\"CO2\"].astype(float)\n",
    "  data[\"HumidityRatio\"] = data[\"HumidityRatio\"].astype(float)\n",
    "  data[\"Occupancy\"] = data[\"Occupancy\"].astype(float)\n",
    "\n",
    "\n",
    "  # Remplazamos los 0 por -1 para la SVM\n",
    "  data[\"Occupancy\"] = data[\"Occupancy\"].replace([0],-1)\n",
    "\n",
    "  # Etiquetas\n",
    "  X_data = data[[\"Temperature\",\"Humidity\",\n",
    "                   \"Light\",\"CO2\",\"HumidityRatio\"]]\n",
    "  # Atributos\n",
    "  Y_data = data[\"Occupancy\"]\n",
    "  return X_data, Y_data\n",
    "\n",
    "occupancy_train_X , occupancy_train_y = occupancy_df_process(\"occupancy/datatraining.txt\")\n",
    "occupancy_test_X , occupancy_test_y = occupancy_df_process(\"occupancy/datatest.txt\")\n",
    "occupancy_test2_X , occupancy_test2_y = occupancy_df_process(\"occupancy/datatest2.txt\")\n",
    "\n",
    "#Creamos un dataframe unico\n",
    "occupancy_X = pd.concat([occupancy_train_X,occupancy_test_X, occupancy_test2_X])\n",
    "occupancy_Y = pd.concat([occupancy_train_y, occupancy_test_y, occupancy_test2_y])"
   ]
  },
  {
   "cell_type": "code",
   "execution_count": 6,
   "id": "49ee90bf",
   "metadata": {},
   "outputs": [
    {
     "data": {
      "text/plain": [
       "Temperature      float64\n",
       "Humidity         float64\n",
       "Light            float64\n",
       "CO2              float64\n",
       "HumidityRatio    float64\n",
       "dtype: object"
      ]
     },
     "execution_count": 6,
     "metadata": {},
     "output_type": "execute_result"
    }
   ],
   "source": [
    "occupancy_train_X.dtypes"
   ]
  },
  {
   "cell_type": "code",
   "execution_count": 7,
   "id": "21719921",
   "metadata": {},
   "outputs": [
    {
     "name": "stdout",
     "output_type": "stream",
     "text": [
      "1       1.0\n",
      "2       1.0\n",
      "3       1.0\n",
      "4       1.0\n",
      "5       1.0\n",
      "       ... \n",
      "8139    1.0\n",
      "8140    1.0\n",
      "8141    1.0\n",
      "8142    1.0\n",
      "8143    1.0\n",
      "Name: Occupancy, Length: 8143, dtype: float64\n"
     ]
    }
   ],
   "source": [
    "print(occupancy_train_y)"
   ]
  },
  {
   "cell_type": "markdown",
   "id": "af1ba31d",
   "metadata": {},
   "source": [
    "Ahora luego de cargarlos vamos a probar con diferentes modelos de clasificación, usando validación cruzada para poder hacer un buen ajuste de hiperparámetros:"
   ]
  },
  {
   "cell_type": "markdown",
   "id": "916fee1c",
   "metadata": {},
   "source": [
    "## Perceptron\n",
    "\n",
    "Para Perceptrón el hiperparámetro que se va a buscar es cual regularización se debe aplicar para garantizar el mejor rendimiento del modelo:\n",
    "\n",
    "#### Banknote authentication"
   ]
  },
  {
   "cell_type": "code",
   "execution_count": 8,
   "id": "2d7ae6ea",
   "metadata": {},
   "outputs": [
    {
     "name": "stdout",
     "output_type": "stream",
     "text": [
      "[0.9818518518518518, 0.9832539682539683, 0.9783068783068782]\n"
     ]
    }
   ],
   "source": [
    "# Busqueda del mejor penalty para perceptron\n",
    "\n",
    "pent = [\"l1\",\"l2\",\"elasticnet\"]\n",
    "k_scores = []\n",
    "for k in pent:    \n",
    "   perc = Perceptron(tol=1e-3, random_state=0, penalty=k)   \n",
    "   scores = cross_val_score(perc, X_data_bank, y_data_bank, cv=50)\n",
    "   k_scores.append(scores.mean())\n",
    "print(k_scores)\n",
    "# Output k_scores"
   ]
  },
  {
   "cell_type": "code",
   "execution_count": 9,
   "id": "1bce72c6",
   "metadata": {},
   "outputs": [
    {
     "data": {
      "text/plain": [
       "Text(0, 0.5, 'Precisión de Cross-Validation')"
      ]
     },
     "execution_count": 9,
     "metadata": {},
     "output_type": "execute_result"
    },
    {
     "data": {
      "image/png": "[encoded data removed]",
      "text/plain": [
       "<Figure size 432x288 with 1 Axes>"
      ]
     },
     "metadata": {
      "needs_background": "light"
     },
     "output_type": "display_data"
    }
   ],
   "source": [
    "%matplotlib inline\n",
    "\n",
    "# Plot del valor de k para Knn con su accuracy respectiva\n",
    "plt.plot(pent, k_scores)\n",
    "plt.xlabel('Penalty')\n",
    "plt.ylabel('Precisión de Cross-Validation')"
   ]
  },
  {
   "cell_type": "markdown",
   "id": "b095f01c",
   "metadata": {},
   "source": [
    "#### Occupancy detection"
   ]
  },
  {
   "cell_type": "code",
   "execution_count": 10,
   "id": "f3ef53ba",
   "metadata": {},
   "outputs": [
    {
     "name": "stdout",
     "output_type": "stream",
     "text": [
      "[0.9799240545201142, 0.9268510381971511, 0.9285539649918502]\n"
     ]
    }
   ],
   "source": [
    "# Busqueda del mejor penalty para perceptron\n",
    "\n",
    "pent = [\"l1\",\"l2\",\"elasticnet\"]\n",
    "k_scores = []\n",
    "for k in pent:    \n",
    "   perc = Perceptron(tol=1e-3, random_state=0, penalty=k)   \n",
    "   scores = cross_val_score(perc, occupancy_X, occupancy_Y, cv=50)\n",
    "   k_scores.append(scores.mean())\n",
    "print(k_scores)\n",
    "# Output k_scores"
   ]
  },
  {
   "cell_type": "code",
   "execution_count": 11,
   "id": "8af1ea23",
   "metadata": {},
   "outputs": [
    {
     "data": {
      "text/plain": [
       "Text(0, 0.5, 'Precisión de Cross-Validation')"
      ]
     },
     "execution_count": 11,
     "metadata": {},
     "output_type": "execute_result"
    },
    {
     "data": {
      "image/png": "[encoded data removed]",
      "text/plain": [
       "<Figure size 432x288 with 1 Axes>"
      ]
     },
     "metadata": {
      "needs_background": "light"
     },
     "output_type": "display_data"
    }
   ],
   "source": [
    "%matplotlib inline\n",
    "\n",
    "# Plot del valor de k para Knn con su accuracy respectiva\n",
    "plt.plot(pent, k_scores)\n",
    "plt.xlabel('Penalty')\n",
    "plt.ylabel('Precisión de Cross-Validation')"
   ]
  },
  {
   "cell_type": "markdown",
   "id": "c5c1bfdc",
   "metadata": {},
   "source": [
    "## SVM\n",
    "\n",
    "Para Support Vector Machines los hiperparámetros que se van a ajustar son el kernel escogido para el modelo y el parámetro de regularización\n",
    "\n",
    "#### Banknote authentication\n"
   ]
  },
  {
   "cell_type": "code",
   "execution_count": 12,
   "id": "8080d6b4",
   "metadata": {},
   "outputs": [
    {
     "name": "stdout",
     "output_type": "stream",
     "text": [
      "[0.9876071088543318, 0.9693800909764096, 0.9963503649635037]\n"
     ]
    }
   ],
   "source": [
    "# Busqueda del mejor kernel para SVM\n",
    "\n",
    "\n",
    "kern = [\"linear\",\"poly\",\"rbf\"]\n",
    "k_scores = []\n",
    "for k in kern:    \n",
    "   svmm = svm.SVC(kernel=k, C=1, random_state=42)\n",
    "   scores = cross_val_score(svmm, X_data_bank, y_data_bank, cv=10)\n",
    "   k_scores.append(scores.mean())\n",
    "print(k_scores)\n",
    "# Output k_scores"
   ]
  },
  {
   "cell_type": "code",
   "execution_count": 13,
   "id": "0d265d8e",
   "metadata": {},
   "outputs": [
    {
     "data": {
      "text/plain": [
       "Text(0, 0.5, 'Precisión de Cross-Validation')"
      ]
     },
     "execution_count": 13,
     "metadata": {},
     "output_type": "execute_result"
    },
    {
     "data": {
      "image/png": "[encoded data removed]",
      "text/plain": [
       "<Figure size 432x288 with 1 Axes>"
      ]
     },
     "metadata": {
      "needs_background": "light"
     },
     "output_type": "display_data"
    }
   ],
   "source": [
    "%matplotlib inline\n",
    "\n",
    "# Plot de los kernel para svm con su accuracy respectiva\n",
    "plt.plot(kern, k_scores)\n",
    "plt.xlabel('Kernel')\n",
    "plt.ylabel('Precisión de Cross-Validation')"
   ]
  },
  {
   "cell_type": "markdown",
   "id": "8f404a69",
   "metadata": {},
   "source": [
    "El kernel que mejor se ajusta es el rbf ( Radial basis function )."
   ]
  },
  {
   "cell_type": "code",
   "execution_count": 14,
   "id": "c0ae751f",
   "metadata": {},
   "outputs": [
    {
     "name": "stdout",
     "output_type": "stream",
     "text": [
      "[0.9963503649635037, 1.0, 1.0, 1.0, 1.0, 1.0, 1.0, 1.0, 1.0]\n"
     ]
    }
   ],
   "source": [
    "# Busqueda del parámetro de regularización para SVM\n",
    "\n",
    "Ccs = list(range(1, 10))\n",
    "k_scores = []\n",
    "for k in Ccs:    \n",
    "   svmm = svm.SVC(kernel=\"rbf\", C=k, random_state=42)\n",
    "   scores = cross_val_score(svmm, X_data_bank, y_data_bank, cv=10)\n",
    "   k_scores.append(scores.mean())\n",
    "print(k_scores)\n",
    "# Output k_scores"
   ]
  },
  {
   "cell_type": "code",
   "execution_count": 15,
   "id": "0d58488c",
   "metadata": {},
   "outputs": [
    {
     "data": {
      "text/plain": [
       "Text(0, 0.5, 'Precisión de Cross-Validation')"
      ]
     },
     "execution_count": 15,
     "metadata": {},
     "output_type": "execute_result"
    },
    {
     "data": {
      "image/png": "[encoded data removed]",
      "text/plain": [
       "<Figure size 432x288 with 1 Axes>"
      ]
     },
     "metadata": {
      "needs_background": "light"
     },
     "output_type": "display_data"
    }
   ],
   "source": [
    "%matplotlib inline\n",
    "\n",
    "# Plot de los kernel para svm con su accuracy respectiva\n",
    "plt.plot(Ccs, k_scores)\n",
    "plt.xlabel('Parámetro de regularización')\n",
    "plt.ylabel('Precisión de Cross-Validation')"
   ]
  },
  {
   "cell_type": "markdown",
   "id": "fdf04baa",
   "metadata": {},
   "source": [
    "#### Occupancy detection"
   ]
  },
  {
   "cell_type": "code",
   "execution_count": 16,
   "id": "e0fdceb1",
   "metadata": {},
   "outputs": [
    {
     "name": "stdout",
     "output_type": "stream",
     "text": [
      "[0.9888132295719844, 0.9882295719844357, 0.9850194552529183]\n"
     ]
    }
   ],
   "source": [
    "kern = [\"linear\",\"poly\",\"rbf\"]\n",
    "k_scores = []\n",
    "for k in kern:    \n",
    "   svmm = svm.SVC(kernel=k, C=1, random_state=42)\n",
    "   scores = cross_val_score(svmm, occupancy_X, occupancy_Y, cv=5)\n",
    "   k_scores.append(scores.mean())\n",
    "print(k_scores)\n",
    "# Output k_scores"
   ]
  },
  {
   "cell_type": "code",
   "execution_count": 17,
   "id": "0bdcaa96",
   "metadata": {},
   "outputs": [
    {
     "data": {
      "text/plain": [
       "Text(0, 0.5, 'Precisión de Cross-Validation')"
      ]
     },
     "execution_count": 17,
     "metadata": {},
     "output_type": "execute_result"
    },
    {
     "data": {
      "image/png": "[encoded data removed]",
      "text/plain": [
       "<Figure size 432x288 with 1 Axes>"
      ]
     },
     "metadata": {
      "needs_background": "light"
     },
     "output_type": "display_data"
    }
   ],
   "source": [
    "%matplotlib inline\n",
    "\n",
    "# Plot de los kernel para svm con su accuracy respectiva\n",
    "plt.plot(kern, k_scores)\n",
    "plt.xlabel('Kernel')\n",
    "plt.ylabel('Precisión de Cross-Validation')"
   ]
  },
  {
   "cell_type": "markdown",
   "id": "5634a10e",
   "metadata": {},
   "source": [
    "El kernel que mejor se ajusta es el linear."
   ]
  },
  {
   "cell_type": "code",
   "execution_count": 18,
   "id": "14ef0262",
   "metadata": {},
   "outputs": [
    {
     "name": "stdout",
     "output_type": "stream",
     "text": [
      "[0.9850194552529183, 0.9855058365758754, 0.985603112840467, 0.9857490272373541, 0.9860408560311285, 0.9861867704280156, 0.9862354085603112, 0.9864299610894942, 0.9862354085603112]\n"
     ]
    }
   ],
   "source": [
    "# Busqueda del parámetro de regularización para SVM\n",
    "\n",
    "Ccs = list(range(1, 10))\n",
    "k_scores = []\n",
    "for k in Ccs:    \n",
    "   svmm = svm.SVC(kernel=\"rbf\", C=k, random_state=42)\n",
    "   scores = cross_val_score(svmm, occupancy_X, occupancy_Y, cv=5)\n",
    "   k_scores.append(scores.mean())\n",
    "print(k_scores)\n",
    "# Output k_scores"
   ]
  },
  {
   "cell_type": "code",
   "execution_count": 19,
   "id": "ea423a5f",
   "metadata": {},
   "outputs": [
    {
     "data": {
      "text/plain": [
       "Text(0, 0.5, 'Precisión de Cross-Validation')"
      ]
     },
     "execution_count": 19,
     "metadata": {},
     "output_type": "execute_result"
    },
    {
     "data": {
      "image/png": "[encoded data removed]",
      "text/plain": [
       "<Figure size 432x288 with 1 Axes>"
      ]
     },
     "metadata": {
      "needs_background": "light"
     },
     "output_type": "display_data"
    }
   ],
   "source": [
    "%matplotlib inline\n",
    "\n",
    "# Plot de los kernel para svm con su accuracy respectiva\n",
    "plt.plot(Ccs, k_scores)\n",
    "plt.xlabel('Parámetro de regularización')\n",
    "plt.ylabel('Precisión de Cross-Validation')"
   ]
  },
  {
   "cell_type": "markdown",
   "id": "0eeb8bf6",
   "metadata": {},
   "source": [
    "## Regresión logística\n",
    "\n",
    "Para Regresión logística el los hiperparámetros que se van a ajustar son el término de regularización c.\n",
    "\n",
    "#### Banknote authentication"
   ]
  },
  {
   "cell_type": "code",
   "execution_count": 20,
   "id": "9124b431",
   "metadata": {},
   "outputs": [
    {
     "name": "stdout",
     "output_type": "stream",
     "text": [
      "[0.9898412698412699, 0.9891269841269841, 0.9876719576719577, 0.9876719576719577, 0.9876719576719577, 0.9876719576719577, 0.9876719576719577, 0.9876719576719577, 0.9876719576719577]\n"
     ]
    }
   ],
   "source": [
    "# Busqueda del mejor poder de regularización c para regresión logística\n",
    "\n",
    "Ccs = list(range(1, 10))\n",
    "k_scores = []\n",
    "for k in Ccs:    \n",
    "   logi = LogisticRegression(tol=1e-3, random_state=0, penalty=\"l2\", C=k)   \n",
    "   scores = cross_val_score(logi, X_data_bank, y_data_bank, cv=50)\n",
    "   k_scores.append(scores.mean())\n",
    "print(k_scores)\n",
    "# Output k_scores"
   ]
  },
  {
   "cell_type": "code",
   "execution_count": 21,
   "id": "4cbf9ad9",
   "metadata": {},
   "outputs": [
    {
     "data": {
      "text/plain": [
       "Text(0, 0.5, 'Precisión de Cross-Validation')"
      ]
     },
     "execution_count": 21,
     "metadata": {},
     "output_type": "execute_result"
    },
    {
     "data": {
      "image/png": "[encoded data removed]",
      "text/plain": [
       "<Figure size 432x288 with 1 Axes>"
      ]
     },
     "metadata": {
      "needs_background": "light"
     },
     "output_type": "display_data"
    }
   ],
   "source": [
    "%matplotlib inline\n",
    "\n",
    "# Plot del valor de k para Knn con su accuracy respectiva\n",
    "plt.plot(Ccs, k_scores)\n",
    "plt.xlabel('Regularization strength')\n",
    "plt.ylabel('Precisión de Cross-Validation')"
   ]
  },
  {
   "cell_type": "markdown",
   "id": "a0960322",
   "metadata": {},
   "source": [
    "#### Occupancy detection"
   ]
  },
  {
   "cell_type": "code",
   "execution_count": 22,
   "id": "5c5e909c",
   "metadata": {},
   "outputs": [
    {
     "name": "stdout",
     "output_type": "stream",
     "text": [
      "[0.9889157394940118, 0.9889157394940118, 0.9888670776935251, 0.9888184158930384, 0.9888184158930384, 0.9888184158930384, 0.9888184158930384, 0.9888184158930384, 0.9888184158930384]\n"
     ]
    }
   ],
   "source": [
    "# Busqueda del mejor poder de regularización c para regresión logística\n",
    "\n",
    "Ccs = list(range(1, 10))\n",
    "k_scores = []\n",
    "for k in Ccs:    \n",
    "   logi = LogisticRegression(tol=1e-3, random_state=0, penalty=\"l2\", C=k)   \n",
    "   scores = cross_val_score(logi, occupancy_X, occupancy_Y, cv=50)\n",
    "   k_scores.append(scores.mean())\n",
    "print(k_scores)\n",
    "# Output k_scores"
   ]
  },
  {
   "cell_type": "code",
   "execution_count": 23,
   "id": "39cc5712",
   "metadata": {},
   "outputs": [
    {
     "data": {
      "text/plain": [
       "Text(0, 0.5, 'Precisión de Cross-Validation')"
      ]
     },
     "execution_count": 23,
     "metadata": {},
     "output_type": "execute_result"
    },
    {
     "data": {
      "image/png": "[encoded data removed]",
      "text/plain": [
       "<Figure size 432x288 with 1 Axes>"
      ]
     },
     "metadata": {
      "needs_background": "light"
     },
     "output_type": "display_data"
    }
   ],
   "source": [
    "%matplotlib inline\n",
    "\n",
    "# Plot del valor de k para Knn con su accuracy respectiva\n",
    "plt.plot(Ccs, k_scores)\n",
    "plt.xlabel('Regularization strength')\n",
    "plt.ylabel('Precisión de Cross-Validation')"
   ]
  },
  {
   "cell_type": "markdown",
   "id": "25846831",
   "metadata": {},
   "source": [
    "## KNN\n",
    "\n",
    "Para KNN los hiperparámetros que vamos a ajustar son la cantidad de vecinos que vamos a usar en el modelo\n",
    "\n",
    "#### Banknote authentication"
   ]
  },
  {
   "cell_type": "code",
   "execution_count": 24,
   "id": "6f0a0a55",
   "metadata": {},
   "outputs": [
    {
     "name": "stdout",
     "output_type": "stream",
     "text": [
      "[0.9992700729927007, 1.0, 1.0, 1.0, 1.0, 1.0, 1.0, 1.0, 1.0, 1.0, 1.0, 1.0, 1.0, 1.0, 1.0, 1.0, 0.997080291970803, 0.997080291970803, 0.9956204379562044, 0.9956204379562044, 0.9934306569343064, 0.9934306569343064, 0.9927007299270072, 0.9927007299270072]\n"
     ]
    }
   ],
   "source": [
    "# Busqueda del mejor k para knn (cantidad de vecinos)\n",
    "\n",
    "k_range = list(range(1, 25))\n",
    "k_scores = []\n",
    "for k in k_range:    \n",
    "   knn = KNeighborsClassifier(k)    \n",
    "   scores = cross_val_score(knn, X_data_bank, y_data_bank, cv=10)\n",
    "   k_scores.append(scores.mean())\n",
    "print(k_scores)\n",
    "# Output k_scores"
   ]
  },
  {
   "cell_type": "code",
   "execution_count": 25,
   "id": "665ed546",
   "metadata": {},
   "outputs": [
    {
     "data": {
      "text/plain": [
       "Text(0, 0.5, 'Precisión de Cross-Validation')"
      ]
     },
     "execution_count": 25,
     "metadata": {},
     "output_type": "execute_result"
    },
    {
     "data": {
      "image/png": "[encoded data removed]",
      "text/plain": [
       "<Figure size 432x288 with 1 Axes>"
      ]
     },
     "metadata": {
      "needs_background": "light"
     },
     "output_type": "display_data"
    }
   ],
   "source": [
    "\n",
    "%matplotlib inline\n",
    "\n",
    "# Plot del valor de k para Knn con su accuracy respectiva\n",
    "plt.plot(k_range, k_scores)\n",
    "plt.xlabel('Valor de k')\n",
    "plt.ylabel('Precisión de Cross-Validation')"
   ]
  },
  {
   "cell_type": "markdown",
   "id": "19bf8d97",
   "metadata": {},
   "source": [
    "#### Occupancy detection"
   ]
  },
  {
   "cell_type": "code",
   "execution_count": 26,
   "id": "9619b7c7",
   "metadata": {},
   "outputs": [
    {
     "name": "stdout",
     "output_type": "stream",
     "text": [
      "[0.9562743190661479, 0.959533073929961, 0.9650778210116732, 0.9668774319066147, 0.9740272373540856, 0.9744163424124513, 0.9784046692607002, 0.9782101167315174, 0.9793774319066149, 0.9803015564202335, 0.9808852140077822, 0.9816147859922179, 0.9827821011673151, 0.9832684824902724, 0.9836575875486382, 0.9835116731517509, 0.9841926070038911, 0.9841926070038912, 0.9839980544747082, 0.9841439688715955, 0.9842412451361868, 0.9842412451361868, 0.9844357976653697, 0.9845330739299613, 0.9845330739299613, 0.9845330739299613, 0.9840953307392997, 0.9840953307392997, 0.9838521400778211, 0.9839494163424124, 0.9838035019455253, 0.9838521400778211, 0.9836089494163425, 0.9838521400778211, 0.983511673151751, 0.9835603112840466, 0.9833171206225682, 0.9833171206225682, 0.9832684824902724, 0.9833171206225682, 0.9830739299610893, 0.9831225680933852, 0.9829280155642024, 0.9829766536964982, 0.9828793774319067, 0.9829766536964979, 0.9825389105058366, 0.9827821011673151, 0.9823929961089494, 0.9823929961089494, 0.982295719844358, 0.982295719844358, 0.9821011673151752, 0.9821498054474708, 0.981955252918288]\n"
     ]
    }
   ],
   "source": [
    "# Busqueda del mejor k para knn (cantidad de vecinos)\n",
    "\n",
    "k_range = list(range(1, 56))\n",
    "k_scores = []\n",
    "for k in k_range:    \n",
    "   knn = KNeighborsClassifier(k)    \n",
    "   scores = cross_val_score(knn, occupancy_X, occupancy_Y, cv=10)\n",
    "   k_scores.append(scores.mean())\n",
    "print(k_scores)\n",
    "# Output k_scores"
   ]
  },
  {
   "cell_type": "code",
   "execution_count": 27,
   "id": "c3739136",
   "metadata": {},
   "outputs": [
    {
     "data": {
      "text/plain": [
       "Text(0, 0.5, 'Precisión de Cross-Validation')"
      ]
     },
     "execution_count": 27,
     "metadata": {},
     "output_type": "execute_result"
    },
    {
     "data": {
      "image/png": "[encoded data removed]",
      "text/plain": [
       "<Figure size 432x288 with 1 Axes>"
      ]
     },
     "metadata": {
      "needs_background": "light"
     },
     "output_type": "display_data"
    }
   ],
   "source": [
    "%matplotlib inline\n",
    "\n",
    "# Plot del valor de k para Knn con su accuracy respectiva\n",
    "plt.plot(k_range, k_scores)\n",
    "plt.xlabel('Valor de k')\n",
    "plt.ylabel('Precisión de Cross-Validation')"
   ]
  },
  {
   "cell_type": "markdown",
   "id": "a03968bd",
   "metadata": {},
   "source": [
    "---\n",
    "\n",
    "**Navegacion entre los Notebooks:**\n",
    "\n",
    "Regresar a [Introducción de la tarea de modelos](Introducción_Tarea_Modelos.ipynb)<br>\n",
    "\n",
    "---\n",
    "\n",
    "**Autores:** Alejandro Martin Salcedo."
   ]
  },
  {
   "cell_type": "code",
   "execution_count": null,
   "id": "1ca7df94",
   "metadata": {},
   "outputs": [],
   "source": []
  }
 ],
 "metadata": {
  "@webio": {
   "lastCommId": null,
   "lastKernelId": null
  },
  "kernelspec": {
   "display_name": "Python 3 (ipykernel)",
   "language": "python",
   "name": "python3"
  },
  "language_info": {
   "codemirror_mode": {
    "name": "ipython",
    "version": 3
   },
   "file_extension": ".py",
   "mimetype": "text/x-python",
   "name": "python",
   "nbconvert_exporter": "python",
   "pygments_lexer": "ipython3",
   "version": "3.9.7"
  }
 },
 "nbformat": 4,
 "nbformat_minor": 5
}
