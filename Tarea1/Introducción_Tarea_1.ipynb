{
 "cells": [
  {
   "cell_type": "markdown",
   "id": "3b7693a3",
   "metadata": {},
   "source": [
    "# TAREA 1\n",
    "\n",
    "Los jupyter notebooks presentados en esta carpeta son para el desarrollo de la primera tarea propuesta en la materia de Matemáticas del Aprendizaje de Máquina. Esta tarea fue realizada individualmente y consiste en usar Support Vector Machines (SVM) para realizar la clasificación de 2 datasets (Banknote authentication y Occupancy detection) y responder unas preguntas relacionadas a estos. \n",
    "\n",
    "Los ejercicios propuestos fueron agrupados en un solo notebook: [Ejercicios del Taller1](SVMBasic.ipynb)<br>\n",
    "\n",
    "Nota: los datasets se encuentran adjuntos al repositiorio.\n",
    "\n",
    "\n",
    "---\n",
    "\n",
    "**Autores:** Alejandro Martin Salcedo."
   ]
  },
  {
   "cell_type": "code",
   "execution_count": null,
   "id": "e422ddf4",
   "metadata": {},
   "outputs": [],
   "source": []
  }
 ],
 "metadata": {
  "kernelspec": {
   "display_name": "Python 3 (ipykernel)",
   "language": "python",
   "name": "python3"
  },
  "language_info": {
   "codemirror_mode": {
    "name": "ipython",
    "version": 3
   },
   "file_extension": ".py",
   "mimetype": "text/x-python",
   "name": "python",
   "nbconvert_exporter": "python",
   "pygments_lexer": "ipython3",
   "version": "3.9.7"
  }
 },
 "nbformat": 4,
 "nbformat_minor": 5
}
